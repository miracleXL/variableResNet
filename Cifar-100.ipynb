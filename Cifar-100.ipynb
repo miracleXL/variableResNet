{
 "cells": [
  {
   "cell_type": "code",
   "execution_count": 54,
   "metadata": {},
   "outputs": [],
   "source": [
    "import torch\n",
    "from torch import nn\n",
    "from torch.utils.data import Dataset, DataLoader\n",
    "from torchvision import datasets, transforms\n",
    "import numpy as np\n",
    "from MyModel import MyModelBase, MyResNet"
   ]
  },
  {
   "cell_type": "code",
   "execution_count": 55,
   "metadata": {},
   "outputs": [
    {
     "name": "stdout",
     "output_type": "stream",
     "text": [
      "CPU Device:【cpu:None】\n"
     ]
    }
   ],
   "source": [
    "if torch.cuda.is_available():\n",
    "    device = torch.device(\"cuda\")\n",
    "    print(\"GPU Device:【{}:{}】\".format(device.type, device.index))\n",
    "    torch.cuda.set_device(0)\n",
    "else:\n",
    "    device = torch.device(\"cpu\")\n",
    "    print(\"CPU Device:【{}:{}】\".format(device.type, device.index))"
   ]
  },
  {
   "cell_type": "code",
   "execution_count": 56,
   "metadata": {},
   "outputs": [],
   "source": [
    "train_dataset = datasets.CIFAR100(root=\"./data\", train=True, transform=transforms.ToTensor())\n",
    "test_dataset = datasets.CIFAR100(root=\"./data\", train=False, transform=transforms.ToTensor())"
   ]
  },
  {
   "cell_type": "code",
   "execution_count": 57,
   "metadata": {},
   "outputs": [
    {
     "name": "stdout",
     "output_type": "stream",
     "text": [
      "Shape of X [N, C, H, W]: torch.Size([32, 3, 32, 32])\n",
      "Shape of y: torch.Size([32]) torch.int64\n"
     ]
    }
   ],
   "source": [
    "batch_size = 128\n",
    "train_dataloader = DataLoader(train_dataset, batch_size, shuffle=True)\n",
    "test_dataloader = DataLoader(test_dataset, batch_size, shuffle=True)\n",
    "\n",
    "for X, y in test_dataloader:\n",
    "    data_shape = X.shape\n",
    "    label_shape = y.shape\n",
    "    print(f\"Shape of X [N, C, H, W]: {X.shape}\")\n",
    "    print(f\"Shape of y: {y.shape} {y.dtype}\")\n",
    "    break"
   ]
  },
  {
   "cell_type": "code",
   "execution_count": 58,
   "metadata": {},
   "outputs": [],
   "source": [
    "\n",
    "class SimpleResBlock(nn.Module):\n",
    "    def __init__(self, out_channels:int=None, kernel_size:int=3, device=None, *args, **wargs):\n",
    "        super().__init__(*args, **wargs)\n",
    "        self.__built = False\n",
    "        self.out_channels = out_channels\n",
    "        self.kernel_size = kernel_size\n",
    "        self.device = device\n",
    "        self.return_attn=False\n",
    "\n",
    "    def build(self, input_shape:tuple):\n",
    "        self.input_shape = input_shape\n",
    "        batch_size, in_channels, in_H, in_W = input_shape\n",
    "        out_channels = in_channels if self.out_channels is None else self.out_channels\n",
    "        \n",
    "        self.conv:nn.Conv2d = nn.Conv2d(in_channels, out_channels, self.kernel_size, padding=\"same\")\n",
    "        self.activation:nn.ReLU = nn.ReLU()\n",
    "        self.bn:nn.BatchNorm2d = nn.BatchNorm2d(in_channels)\n",
    "        self.downconv:nn.Conv2d = nn.Conv2d(in_channels, out_channels, self.kernel_size, padding=\"same\")\n",
    "\n",
    "        self.output_shape = input_shape if out_channels == in_channels else (batch_size, in_channels, in_H, in_W)\n",
    "        self.__built = True\n",
    "        self.to(self.device)\n",
    "\n",
    "    def forward(self, x:torch.Tensor, return_attn=False):\n",
    "        fx:torch.Tensor = x\n",
    "        fx = self.conv(fx)\n",
    "        fx = self.bn(fx)\n",
    "        if fx.shape[-1] != x.shape[-1]:\n",
    "            x = self.downconv(x)\n",
    "        return fx + x\n",
    "\n",
    "    def freeze(self):\n",
    "        for param in self.parameters():\n",
    "            param.requires_grad = False"
   ]
  },
  {
   "cell_type": "code",
   "execution_count": 59,
   "metadata": {},
   "outputs": [],
   "source": [
    "class SimpleBaseModel(MyModelBase):\n",
    "    def __init__(self, classes=2, device=None, *args, **kwargs):\n",
    "        super().__init__(device, *args, **kwargs)\n",
    "        self.classes = classes\n",
    "    \n",
    "    def build(self, input_shape):\n",
    "        self.blocks:nn.ModuleList = nn.ModuleList([SimpleResBlock(input_shape[1], device=self.device) for i in range(4)])\n",
    "        for block in self.blocks:\n",
    "            block.build(input_shape)\n",
    "            block.to(self.device)\n",
    "        self.flatten = nn.Flatten()\n",
    "        self.linear = nn.Linear(np.prod(input_shape[1:]), self.classes)\n",
    "        self.__built = True\n",
    "\n",
    "    def forward(self, x):\n",
    "        for blk in self.blocks:\n",
    "            x = blk(x)\n",
    "        x = self.flatten(x)\n",
    "        x = self.linear(x)\n",
    "        return x"
   ]
  },
  {
   "cell_type": "code",
   "execution_count": 60,
   "metadata": {},
   "outputs": [],
   "source": [
    "class SimpleResNet(MyResNet):\n",
    "    def __init__(self, classes=2, device=None, copy_block=False, cache=False, freeze_block=False, *args, **kwargs):\n",
    "        super().__init__(device=device, copy_block=copy_block, cache=cache, freeze_block=freeze_block *args, **kwargs)\n",
    "        self.classes = classes\n",
    "    \n",
    "    def build(self, input_shape):\n",
    "        self.blocks:nn.ModuleList = nn.ModuleList([SimpleResBlock(input_shape[1])])\n",
    "        for block in self.blocks:\n",
    "            block.build(input_shape)\n",
    "            block.to(self.device)\n",
    "        self.flatten = nn.Flatten()\n",
    "        self.linear = nn.Linear(torch.prod(input_shape[1:]), self.classes)\n",
    "        self.__built = True\n",
    "\n",
    "    def forward(self, x):\n",
    "        if self.cache:\n",
    "            for i in range(self.__frozen_blocks_num, self.__blocks_num):\n",
    "                x = self.blocks[i](x)\n",
    "        else:\n",
    "            for i in range(self.__blocks_num):\n",
    "                x = self.blocks[i](x)\n",
    "        x = self.flatten(x)\n",
    "        x = self.linear(x)\n",
    "        return x\n",
    "\n",
    "    def addNewBlock(self, copy_last=False):\n",
    "        print(\"----------\")\n",
    "        print(f\"{'Copying' if copy_last else 'Adding'} new block...\")\n",
    "        newBlock = SimpleResBlock()\n",
    "        last_block:SimpleResBlock = self.blocks[-1]\n",
    "        newBlock.build(last_block.output_shape)\n",
    "        if copy_last:\n",
    "            # 复制上一层参数\n",
    "            newBlock.load_state_dict(last_block.state_dict())\n",
    "        self.blocks.append(newBlock)\n",
    "        newBlock.to(self.device)\n",
    "        self.__blocks_num += 1\n",
    "        if self.freeze_block:\n",
    "            self.freeze(last_block)\n",
    "        self.__frozen_blocks_num += 1\n",
    "        self.__forward_cache(last_block)\n",
    "        print(\"Success!\")\n",
    "\n",
    "    def add_condition(self, epoch):\n",
    "        if self.__blocks_num < 4:\n",
    "            if epoch and epoch%5 == 0:\n",
    "                return True\n",
    "        return False\n"
   ]
  },
  {
   "cell_type": "code",
   "execution_count": 61,
   "metadata": {},
   "outputs": [],
   "source": [
    "lr = 5e-5\n",
    "epochs = 20\n",
    "loss_fn = nn.CrossEntropyLoss\n",
    "optimizer = torch.optim.Adam\n",
    "correct, loss, timing = {}, {}, {}"
   ]
  },
  {
   "cell_type": "code",
   "execution_count": null,
   "metadata": {},
   "outputs": [],
   "source": [
    "base_model = SimpleBaseModel(len(train_dataset.classes), device)\n",
    "base_model.compile(train_dataloader, loss_fn=loss_fn, optimizer=optimizer, lr=lr)\n",
    "correct[\"Base\"], loss[\"Base\"], timing[\"Base\"] = base_model.fit(train_dataloader, epochs=epochs, test_dataloader=test_dataloader)"
   ]
  },
  {
   "cell_type": "code",
   "execution_count": null,
   "metadata": {},
   "outputs": [],
   "source": [
    "res_model = SimpleBaseModel(len(train_dataset.classes), device)\n",
    "res_model.compile(train_dataloader, loss_fn=loss_fn, optimizer=optimizer, lr=lr)\n",
    "correct[\"Test\"], loss[\"Test\"], timing[\"Test\"] = res_model.fit(train_dataloader, epochs=epochs, test_dataloader=test_dataloader)"
   ]
  }
 ],
 "metadata": {
  "kernelspec": {
   "display_name": "Python 3",
   "language": "python",
   "name": "python3"
  },
  "language_info": {
   "codemirror_mode": {
    "name": "ipython",
    "version": 3
   },
   "file_extension": ".py",
   "mimetype": "text/x-python",
   "name": "python",
   "nbconvert_exporter": "python",
   "pygments_lexer": "ipython3",
   "version": "3.7.3"
  }
 },
 "nbformat": 4,
 "nbformat_minor": 2
}
