{
 "cells": [
  {
   "cell_type": "code",
   "execution_count": 1,
   "metadata": {},
   "outputs": [
    {
     "name": "stdout",
     "output_type": "stream",
     "text": [
      "WARNING:tensorflow:From c:\\ProgramData\\Anaconda3\\envs\\py11\\Lib\\site-packages\\keras\\src\\losses.py:2976: The name tf.losses.sparse_softmax_cross_entropy is deprecated. Please use tf.compat.v1.losses.sparse_softmax_cross_entropy instead.\n",
      "\n"
     ]
    }
   ],
   "source": [
    "from nilearn import connectome\n",
    "import pickle\n",
    "import numpy as np\n",
    "import glob\n",
    "import pandas as pd\n",
    "import numpy as np"
   ]
  },
  {
   "cell_type": "code",
   "execution_count": 2,
   "metadata": {},
   "outputs": [],
   "source": [
    "base_path = \"D:/datasets/ABIDE\"\n",
    "data_path = \"D:/datasets/ABIDE/Outputs/dparsf/filt_global/rois_aal\""
   ]
  },
  {
   "cell_type": "code",
   "execution_count": 3,
   "metadata": {},
   "outputs": [],
   "source": [
    "phenotypic = pd.read_csv(f\"{base_path}/Phenotypic_V1_0b_preprocessed1.csv\")"
   ]
  },
  {
   "cell_type": "code",
   "execution_count": 4,
   "metadata": {},
   "outputs": [],
   "source": [
    "data = []\n",
    "labels = []\n",
    "fc_data = []\n",
    "fc_labels = []\n",
    "for i, sub in phenotypic.iterrows():\n",
    "    filename = sub[\"FILE_ID\"]\n",
    "    file = glob.glob(f\"{data_path}/{filename}*\")\n",
    "    if file:\n",
    "        time_series = pd.read_table(file[0]).to_numpy()\n",
    "        data.append(np.append(time_series, np.full((315-time_series.shape[0],116), np.nan), axis=0))\n",
    "        labels.append([sub[\"DX_GROUP\"]-1])\n",
    "        fc = connectome.ConnectivityMeasure(kind=\"correlation\").fit_transform([time_series])[0].reshape((116, 116, 1))\n",
    "        fc_data.append(fc)\n",
    "        fc_labels.append([sub[\"DX_GROUP\"]-1])"
   ]
  },
  {
   "cell_type": "code",
   "execution_count": 5,
   "metadata": {},
   "outputs": [],
   "source": [
    "np.savez(f\"{base_path}/ABIDE_dataset\", data=data, labels=labels)\n",
    "np.savez(f\"{base_path}/ABIDE_FC_dataset\", data=fc_data, labels=fc_labels)"
   ]
  },
  {
   "cell_type": "markdown",
   "metadata": {},
   "source": [
    "数据增强"
   ]
  },
  {
   "cell_type": "code",
   "execution_count": 17,
   "metadata": {},
   "outputs": [],
   "source": [
    "def sliceWindows(time_series, frame, interval):\n",
    "    \"\"\" 切割滑动窗口 \"\"\"\n",
    "    \"\"\"\n",
    "        time_series: numpy.ndarray, 需要切割的时间序列\n",
    "        frame: int, 每帧窗口尺寸\n",
    "        interval: int, 窗口间步长间隔\n",
    "    \"\"\"\n",
    "    if len(time_series) < frame:\n",
    "        return [time_series]\n",
    "    windows = []\n",
    "    l, r = 0, frame\n",
    "    while r < time_series.shape[0]:\n",
    "        windows.append(time_series[l:r])\n",
    "        l += interval\n",
    "        r = l + frame\n",
    "    return windows"
   ]
  },
  {
   "cell_type": "code",
   "execution_count": 18,
   "metadata": {},
   "outputs": [],
   "source": [
    "data = []\n",
    "labels = []\n",
    "fc_data = []\n",
    "fc_labels = []\n",
    "for i, sub in phenotypic.iterrows():\n",
    "    filename = sub[\"FILE_ID\"]\n",
    "    file = glob.glob(f\"{data_path}/{filename}*\")\n",
    "    if file:\n",
    "        time_series = pd.read_table(file[0]).to_numpy()\n",
    "        for window in sliceWindows(time_series, 60, 10):\n",
    "            data.append(window)\n",
    "            labels.append([sub[\"DX_GROUP\"]-1])\n",
    "            fc = connectome.ConnectivityMeasure(kind=\"correlation\").fit_transform([window])[0].reshape((116, 116, 1))\n",
    "            fc_data.append(fc)\n",
    "            fc_labels.append([sub[\"DX_GROUP\"]-1])"
   ]
  },
  {
   "cell_type": "code",
   "execution_count": 19,
   "metadata": {},
   "outputs": [],
   "source": [
    "np.savez(f\"{base_path}/ABIDE_augmented_dataset\", data=data, labels=labels)\n",
    "np.savez(f\"{base_path}/ABIDE_FC_augmented_dataset\", data=fc_data, labels=fc_labels)"
   ]
  }
 ],
 "metadata": {
  "kernelspec": {
   "display_name": "Python 3.11.3 ('py11')",
   "language": "python",
   "name": "python3"
  },
  "language_info": {
   "codemirror_mode": {
    "name": "ipython",
    "version": 3
   },
   "file_extension": ".py",
   "mimetype": "text/x-python",
   "name": "python",
   "nbconvert_exporter": "python",
   "pygments_lexer": "ipython3",
   "version": "3.11.3"
  },
  "orig_nbformat": 4,
  "vscode": {
   "interpreter": {
    "hash": "0102885850472d4b48be635951678564d66fcf30e6ac4d4598338ada28877327"
   }
  }
 },
 "nbformat": 4,
 "nbformat_minor": 2
}
