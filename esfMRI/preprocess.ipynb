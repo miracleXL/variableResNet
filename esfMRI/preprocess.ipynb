{
 "cells": [
  {
   "cell_type": "code",
   "execution_count": 1,
   "metadata": {},
   "outputs": [],
   "source": [
    "import tensorflow as tf\n",
    "from nilearn import connectome\n",
    "import pickle\n",
    "import numpy as np"
   ]
  },
  {
   "cell_type": "code",
   "execution_count": 2,
   "metadata": {},
   "outputs": [],
   "source": [
    "with open(\"time_series.pkl\", \"rb\") as f:\n",
    "    time_series_data = pickle.load(f)"
   ]
  },
  {
   "cell_type": "code",
   "execution_count": 8,
   "metadata": {},
   "outputs": [],
   "source": [
    "FCs = {} # 所有数据计算得到的功能连接\n",
    "for sub, ses in time_series_data.items():\n",
    "    FCs[sub] = {}\n",
    "    for op, runs in ses.items():\n",
    "        FCs[sub][op] = {}\n",
    "        for run, items in runs.items():\n",
    "            if \"time_series\" in items:\n",
    "                FCs[sub][op][run] = connectome.ConnectivityMeasure(kind=\"correlation\").fit_transform([items[\"time_series\"]])[0]"
   ]
  },
  {
   "cell_type": "code",
   "execution_count": 9,
   "metadata": {},
   "outputs": [],
   "source": [
    "with open(\"FCs.pkl\", \"wb\") as f:\n",
    "    pickle.dump(FCs, f)"
   ]
  },
  {
   "cell_type": "code",
   "execution_count": 2,
   "metadata": {},
   "outputs": [],
   "source": [
    "with open(\"FCs.pkl\", \"rb\") as f:\n",
    "    FCs = pickle.load(f)"
   ]
  },
  {
   "cell_type": "code",
   "execution_count": 3,
   "metadata": {},
   "outputs": [],
   "source": [
    "data = []\n",
    "labels = []\n",
    "for sub, ses in FCs.items():\n",
    "    for op, runs in ses.items():\n",
    "        for run, items in runs.items():\n",
    "            data.append(items)\n",
    "            labels.append(op)"
   ]
  },
  {
   "cell_type": "code",
   "execution_count": 4,
   "metadata": {},
   "outputs": [],
   "source": [
    "np.savez(\"es_dataset\", data=data, labels=labels)"
   ]
  },
  {
   "cell_type": "code",
   "execution_count": 5,
   "metadata": {},
   "outputs": [],
   "source": [
    "with np.load(\"es_dataset.npz\") as dataset:\n",
    "    data = dataset[\"data\"]\n",
    "    labels = dataset[\"labels\"]"
   ]
  },
  {
   "cell_type": "code",
   "execution_count": 6,
   "metadata": {},
   "outputs": [],
   "source": [
    "es_dataset = tf.data.Dataset.from_tensor_slices((data, labels))"
   ]
  }
 ],
 "metadata": {
  "kernelspec": {
   "display_name": "Python 3",
   "language": "python",
   "name": "python3"
  },
  "language_info": {
   "codemirror_mode": {
    "name": "ipython",
    "version": 3
   },
   "file_extension": ".py",
   "mimetype": "text/x-python",
   "name": "python",
   "nbconvert_exporter": "python",
   "pygments_lexer": "ipython3",
   "version": "3.7.3"
  },
  "orig_nbformat": 4
 },
 "nbformat": 4,
 "nbformat_minor": 2
}
